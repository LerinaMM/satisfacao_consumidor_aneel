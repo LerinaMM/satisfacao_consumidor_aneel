{
  "nbformat": 4,
  "nbformat_minor": 0,
  "metadata": {
    "colab": {
      "provenance": [],
      "mount_file_id": "13fezhxsP-IjBE5jHRXpqQ1os8_k1Yc3u",
      "authorship_tag": "ABX9TyNkK2iYDd90eFs1Xl7afrg6",
      "include_colab_link": true
    },
    "kernelspec": {
      "name": "python3",
      "display_name": "Python 3"
    },
    "language_info": {
      "name": "python"
    }
  },
  "cells": [
    {
      "cell_type": "markdown",
      "metadata": {
        "id": "view-in-github",
        "colab_type": "text"
      },
      "source": [
        "<a href=\"https://colab.research.google.com/github/LerinaMM/satisfacao_consumidor_aneel/blob/main/aneel_ouvidoria.ipynb\" target=\"_parent\"><img src=\"https://colab.research.google.com/assets/colab-badge.svg\" alt=\"Open In Colab\"/></a>"
      ]
    },
    {
      "cell_type": "code",
      "execution_count": 1,
      "metadata": {
        "colab": {
          "base_uri": "https://localhost:8080/"
        },
        "id": "K3NKAxtJz1_3",
        "outputId": "a74ffb9c-8784-432d-f6d2-05d4746e27d2"
      },
      "outputs": [
        {
          "output_type": "stream",
          "name": "stdout",
          "text": [
            "wget: missing URL\n",
            "Usage: wget [OPTION]... [URL]...\n",
            "\n",
            "Try `wget --help' for more options.\n"
          ]
        }
      ],
      "source": [
        "!wget -P \"/content/drive/MyDrive/Datasets/aneel/ouvidoria-aneel-2022.csv\""
      ]
    },
    {
      "cell_type": "code",
      "source": [
        "import pandas as pd\n",
        "import numpy as np\n",
        "import matplotlib.pyplot as plt\n",
        "import seaborn as sns\n",
        "\n",
        "\n",
        "import warnings\n",
        "warnings.filterwarnings('ignore')"
      ],
      "metadata": {
        "id": "j-Zx0C9A00wP"
      },
      "execution_count": 4,
      "outputs": []
    },
    {
      "cell_type": "code",
      "source": [
        "dados = pd.read_csv('/content/drive/MyDrive/Datasets/aneel/ouvidoria-aneel-2022.csv', encoding='latin-1', delimiter=';')"
      ],
      "metadata": {
        "id": "9IHY18gw0ewI"
      },
      "execution_count": 5,
      "outputs": []
    },
    {
      "cell_type": "code",
      "source": [
        "dados.head()"
      ],
      "metadata": {
        "colab": {
          "base_uri": "https://localhost:8080/",
          "height": 313
        },
        "id": "4iBsRkQW1JiP",
        "outputId": "6c51d239-0710-4264-e416-f9b57654261f"
      },
      "execution_count": 6,
      "outputs": [
        {
          "output_type": "execute_result",
          "data": {
            "text/plain": [
              "  DatGeracaoConjuntoDados    SigAgente  NumCPFCNPJAgente SigUF  \\\n",
              "0              2023-08-01  Energisa AC     4065033000170    AC   \n",
              "1              2023-08-01  Energisa AC     4065033000170    AC   \n",
              "2              2023-08-01  Energisa AC     4065033000170    AC   \n",
              "3              2023-08-01  Energisa AC     4065033000170    AC   \n",
              "4              2023-08-01  Energisa AC     4065033000170    AC   \n",
              "\n",
              "   CodigoMunicipio      NomMunicipio NomCategoria NomSubCategoria  \\\n",
              "0          1200450  Senador Guiomard   Informação     Atendimento   \n",
              "1          1200401        Rio Branco   Informação     Atendimento   \n",
              "2          1200203   Cruzeiro do Sul   Informação       Cobranças   \n",
              "3          1200401        Rio Branco   Informação     Atendimento   \n",
              "4          1200401        Rio Branco   Informação       Cobranças   \n",
              "\n",
              "               NomTipologia   NomDecisao            DscSituacao   DtCriacao  \\\n",
              "0             Atend Digital  Sem decisão  Finalizada por Script  2022-12-02   \n",
              "1          Atend Telefônico  Sem decisão  Finalizada por Script  2022-10-04   \n",
              "2  Cobrança Irregularidades  Sem decisão              Encerrada  2022-08-05   \n",
              "3          Atend Presencial  Sem decisão  Finalizada por Script  2022-02-10   \n",
              "4  Cobrança Irregularidades  Sem decisão              Encerrada  2022-04-15   \n",
              "\n",
              "   NumQtdReclamacoesDia  \n",
              "0                     1  \n",
              "1                     1  \n",
              "2                     1  \n",
              "3                     1  \n",
              "4                     1  "
            ],
            "text/html": [
              "\n",
              "  <div id=\"df-3e93d3af-a308-4a42-bde4-39ee66751d61\" class=\"colab-df-container\">\n",
              "    <div>\n",
              "<style scoped>\n",
              "    .dataframe tbody tr th:only-of-type {\n",
              "        vertical-align: middle;\n",
              "    }\n",
              "\n",
              "    .dataframe tbody tr th {\n",
              "        vertical-align: top;\n",
              "    }\n",
              "\n",
              "    .dataframe thead th {\n",
              "        text-align: right;\n",
              "    }\n",
              "</style>\n",
              "<table border=\"1\" class=\"dataframe\">\n",
              "  <thead>\n",
              "    <tr style=\"text-align: right;\">\n",
              "      <th></th>\n",
              "      <th>DatGeracaoConjuntoDados</th>\n",
              "      <th>SigAgente</th>\n",
              "      <th>NumCPFCNPJAgente</th>\n",
              "      <th>SigUF</th>\n",
              "      <th>CodigoMunicipio</th>\n",
              "      <th>NomMunicipio</th>\n",
              "      <th>NomCategoria</th>\n",
              "      <th>NomSubCategoria</th>\n",
              "      <th>NomTipologia</th>\n",
              "      <th>NomDecisao</th>\n",
              "      <th>DscSituacao</th>\n",
              "      <th>DtCriacao</th>\n",
              "      <th>NumQtdReclamacoesDia</th>\n",
              "    </tr>\n",
              "  </thead>\n",
              "  <tbody>\n",
              "    <tr>\n",
              "      <th>0</th>\n",
              "      <td>2023-08-01</td>\n",
              "      <td>Energisa AC</td>\n",
              "      <td>4065033000170</td>\n",
              "      <td>AC</td>\n",
              "      <td>1200450</td>\n",
              "      <td>Senador Guiomard</td>\n",
              "      <td>Informação</td>\n",
              "      <td>Atendimento</td>\n",
              "      <td>Atend Digital</td>\n",
              "      <td>Sem decisão</td>\n",
              "      <td>Finalizada por Script</td>\n",
              "      <td>2022-12-02</td>\n",
              "      <td>1</td>\n",
              "    </tr>\n",
              "    <tr>\n",
              "      <th>1</th>\n",
              "      <td>2023-08-01</td>\n",
              "      <td>Energisa AC</td>\n",
              "      <td>4065033000170</td>\n",
              "      <td>AC</td>\n",
              "      <td>1200401</td>\n",
              "      <td>Rio Branco</td>\n",
              "      <td>Informação</td>\n",
              "      <td>Atendimento</td>\n",
              "      <td>Atend Telefônico</td>\n",
              "      <td>Sem decisão</td>\n",
              "      <td>Finalizada por Script</td>\n",
              "      <td>2022-10-04</td>\n",
              "      <td>1</td>\n",
              "    </tr>\n",
              "    <tr>\n",
              "      <th>2</th>\n",
              "      <td>2023-08-01</td>\n",
              "      <td>Energisa AC</td>\n",
              "      <td>4065033000170</td>\n",
              "      <td>AC</td>\n",
              "      <td>1200203</td>\n",
              "      <td>Cruzeiro do Sul</td>\n",
              "      <td>Informação</td>\n",
              "      <td>Cobranças</td>\n",
              "      <td>Cobrança Irregularidades</td>\n",
              "      <td>Sem decisão</td>\n",
              "      <td>Encerrada</td>\n",
              "      <td>2022-08-05</td>\n",
              "      <td>1</td>\n",
              "    </tr>\n",
              "    <tr>\n",
              "      <th>3</th>\n",
              "      <td>2023-08-01</td>\n",
              "      <td>Energisa AC</td>\n",
              "      <td>4065033000170</td>\n",
              "      <td>AC</td>\n",
              "      <td>1200401</td>\n",
              "      <td>Rio Branco</td>\n",
              "      <td>Informação</td>\n",
              "      <td>Atendimento</td>\n",
              "      <td>Atend Presencial</td>\n",
              "      <td>Sem decisão</td>\n",
              "      <td>Finalizada por Script</td>\n",
              "      <td>2022-02-10</td>\n",
              "      <td>1</td>\n",
              "    </tr>\n",
              "    <tr>\n",
              "      <th>4</th>\n",
              "      <td>2023-08-01</td>\n",
              "      <td>Energisa AC</td>\n",
              "      <td>4065033000170</td>\n",
              "      <td>AC</td>\n",
              "      <td>1200401</td>\n",
              "      <td>Rio Branco</td>\n",
              "      <td>Informação</td>\n",
              "      <td>Cobranças</td>\n",
              "      <td>Cobrança Irregularidades</td>\n",
              "      <td>Sem decisão</td>\n",
              "      <td>Encerrada</td>\n",
              "      <td>2022-04-15</td>\n",
              "      <td>1</td>\n",
              "    </tr>\n",
              "  </tbody>\n",
              "</table>\n",
              "</div>\n",
              "    <div class=\"colab-df-buttons\">\n",
              "\n",
              "  <div class=\"colab-df-container\">\n",
              "    <button class=\"colab-df-convert\" onclick=\"convertToInteractive('df-3e93d3af-a308-4a42-bde4-39ee66751d61')\"\n",
              "            title=\"Convert this dataframe to an interactive table.\"\n",
              "            style=\"display:none;\">\n",
              "\n",
              "  <svg xmlns=\"http://www.w3.org/2000/svg\" height=\"24px\" viewBox=\"0 -960 960 960\">\n",
              "    <path d=\"M120-120v-720h720v720H120Zm60-500h600v-160H180v160Zm220 220h160v-160H400v160Zm0 220h160v-160H400v160ZM180-400h160v-160H180v160Zm440 0h160v-160H620v160ZM180-180h160v-160H180v160Zm440 0h160v-160H620v160Z\"/>\n",
              "  </svg>\n",
              "    </button>\n",
              "\n",
              "  <style>\n",
              "    .colab-df-container {\n",
              "      display:flex;\n",
              "      gap: 12px;\n",
              "    }\n",
              "\n",
              "    .colab-df-convert {\n",
              "      background-color: #E8F0FE;\n",
              "      border: none;\n",
              "      border-radius: 50%;\n",
              "      cursor: pointer;\n",
              "      display: none;\n",
              "      fill: #1967D2;\n",
              "      height: 32px;\n",
              "      padding: 0 0 0 0;\n",
              "      width: 32px;\n",
              "    }\n",
              "\n",
              "    .colab-df-convert:hover {\n",
              "      background-color: #E2EBFA;\n",
              "      box-shadow: 0px 1px 2px rgba(60, 64, 67, 0.3), 0px 1px 3px 1px rgba(60, 64, 67, 0.15);\n",
              "      fill: #174EA6;\n",
              "    }\n",
              "\n",
              "    .colab-df-buttons div {\n",
              "      margin-bottom: 4px;\n",
              "    }\n",
              "\n",
              "    [theme=dark] .colab-df-convert {\n",
              "      background-color: #3B4455;\n",
              "      fill: #D2E3FC;\n",
              "    }\n",
              "\n",
              "    [theme=dark] .colab-df-convert:hover {\n",
              "      background-color: #434B5C;\n",
              "      box-shadow: 0px 1px 3px 1px rgba(0, 0, 0, 0.15);\n",
              "      filter: drop-shadow(0px 1px 2px rgba(0, 0, 0, 0.3));\n",
              "      fill: #FFFFFF;\n",
              "    }\n",
              "  </style>\n",
              "\n",
              "    <script>\n",
              "      const buttonEl =\n",
              "        document.querySelector('#df-3e93d3af-a308-4a42-bde4-39ee66751d61 button.colab-df-convert');\n",
              "      buttonEl.style.display =\n",
              "        google.colab.kernel.accessAllowed ? 'block' : 'none';\n",
              "\n",
              "      async function convertToInteractive(key) {\n",
              "        const element = document.querySelector('#df-3e93d3af-a308-4a42-bde4-39ee66751d61');\n",
              "        const dataTable =\n",
              "          await google.colab.kernel.invokeFunction('convertToInteractive',\n",
              "                                                    [key], {});\n",
              "        if (!dataTable) return;\n",
              "\n",
              "        const docLinkHtml = 'Like what you see? Visit the ' +\n",
              "          '<a target=\"_blank\" href=https://colab.research.google.com/notebooks/data_table.ipynb>data table notebook</a>'\n",
              "          + ' to learn more about interactive tables.';\n",
              "        element.innerHTML = '';\n",
              "        dataTable['output_type'] = 'display_data';\n",
              "        await google.colab.output.renderOutput(dataTable, element);\n",
              "        const docLink = document.createElement('div');\n",
              "        docLink.innerHTML = docLinkHtml;\n",
              "        element.appendChild(docLink);\n",
              "      }\n",
              "    </script>\n",
              "  </div>\n",
              "\n",
              "\n",
              "<div id=\"df-602dedf1-ec79-4232-ba8a-6dda1e26dd7f\">\n",
              "  <button class=\"colab-df-quickchart\" onclick=\"quickchart('df-602dedf1-ec79-4232-ba8a-6dda1e26dd7f')\"\n",
              "            title=\"Suggest charts.\"\n",
              "            style=\"display:none;\">\n",
              "\n",
              "<svg xmlns=\"http://www.w3.org/2000/svg\" height=\"24px\"viewBox=\"0 0 24 24\"\n",
              "     width=\"24px\">\n",
              "    <g>\n",
              "        <path d=\"M19 3H5c-1.1 0-2 .9-2 2v14c0 1.1.9 2 2 2h14c1.1 0 2-.9 2-2V5c0-1.1-.9-2-2-2zM9 17H7v-7h2v7zm4 0h-2V7h2v10zm4 0h-2v-4h2v4z\"/>\n",
              "    </g>\n",
              "</svg>\n",
              "  </button>\n",
              "\n",
              "<style>\n",
              "  .colab-df-quickchart {\n",
              "    background-color: #E8F0FE;\n",
              "    border: none;\n",
              "    border-radius: 50%;\n",
              "    cursor: pointer;\n",
              "    display: none;\n",
              "    fill: #1967D2;\n",
              "    height: 32px;\n",
              "    padding: 0 0 0 0;\n",
              "    width: 32px;\n",
              "  }\n",
              "\n",
              "  .colab-df-quickchart:hover {\n",
              "    background-color: #E2EBFA;\n",
              "    box-shadow: 0px 1px 2px rgba(60, 64, 67, 0.3), 0px 1px 3px 1px rgba(60, 64, 67, 0.15);\n",
              "    fill: #174EA6;\n",
              "  }\n",
              "\n",
              "  [theme=dark] .colab-df-quickchart {\n",
              "    background-color: #3B4455;\n",
              "    fill: #D2E3FC;\n",
              "  }\n",
              "\n",
              "  [theme=dark] .colab-df-quickchart:hover {\n",
              "    background-color: #434B5C;\n",
              "    box-shadow: 0px 1px 3px 1px rgba(0, 0, 0, 0.15);\n",
              "    filter: drop-shadow(0px 1px 2px rgba(0, 0, 0, 0.3));\n",
              "    fill: #FFFFFF;\n",
              "  }\n",
              "</style>\n",
              "\n",
              "  <script>\n",
              "    async function quickchart(key) {\n",
              "      const charts = await google.colab.kernel.invokeFunction(\n",
              "          'suggestCharts', [key], {});\n",
              "    }\n",
              "    (() => {\n",
              "      let quickchartButtonEl =\n",
              "        document.querySelector('#df-602dedf1-ec79-4232-ba8a-6dda1e26dd7f button');\n",
              "      quickchartButtonEl.style.display =\n",
              "        google.colab.kernel.accessAllowed ? 'block' : 'none';\n",
              "    })();\n",
              "  </script>\n",
              "</div>\n",
              "    </div>\n",
              "  </div>\n"
            ]
          },
          "metadata": {},
          "execution_count": 6
        }
      ]
    },
    {
      "cell_type": "code",
      "source": [
        "dados.info()"
      ],
      "metadata": {
        "colab": {
          "base_uri": "https://localhost:8080/"
        },
        "id": "mTHMl3sj1VaX",
        "outputId": "db52af83-0041-449f-d37d-77bb6ff07e14"
      },
      "execution_count": 7,
      "outputs": [
        {
          "output_type": "stream",
          "name": "stdout",
          "text": [
            "<class 'pandas.core.frame.DataFrame'>\n",
            "RangeIndex: 471835 entries, 0 to 471834\n",
            "Data columns (total 13 columns):\n",
            " #   Column                   Non-Null Count   Dtype \n",
            "---  ------                   --------------   ----- \n",
            " 0   DatGeracaoConjuntoDados  471835 non-null  object\n",
            " 1   SigAgente                471835 non-null  object\n",
            " 2   NumCPFCNPJAgente         471835 non-null  int64 \n",
            " 3   SigUF                    471835 non-null  object\n",
            " 4   CodigoMunicipio          471835 non-null  int64 \n",
            " 5   NomMunicipio             471833 non-null  object\n",
            " 6   NomCategoria             471833 non-null  object\n",
            " 7   NomSubCategoria          471835 non-null  object\n",
            " 8   NomTipologia             471833 non-null  object\n",
            " 9   NomDecisao               471835 non-null  object\n",
            " 10  DscSituacao              471835 non-null  object\n",
            " 11  DtCriacao                471835 non-null  object\n",
            " 12  NumQtdReclamacoesDia     471835 non-null  int64 \n",
            "dtypes: int64(3), object(10)\n",
            "memory usage: 46.8+ MB\n"
          ]
        }
      ]
    },
    {
      "cell_type": "code",
      "source": [
        "dados.duplicated().sum()"
      ],
      "metadata": {
        "colab": {
          "base_uri": "https://localhost:8080/"
        },
        "id": "uRLxLr1f1lsv",
        "outputId": "450da697-8f02-468d-eb32-ec5276bb23b8"
      },
      "execution_count": 8,
      "outputs": [
        {
          "output_type": "execute_result",
          "data": {
            "text/plain": [
              "0"
            ]
          },
          "metadata": {},
          "execution_count": 8
        }
      ]
    },
    {
      "cell_type": "code",
      "source": [
        "dados.isnull().sum()"
      ],
      "metadata": {
        "colab": {
          "base_uri": "https://localhost:8080/"
        },
        "id": "WwG2dZTM1lmq",
        "outputId": "6ae3f600-8962-463e-995c-c5e1546992f9"
      },
      "execution_count": 9,
      "outputs": [
        {
          "output_type": "execute_result",
          "data": {
            "text/plain": [
              "DatGeracaoConjuntoDados    0\n",
              "SigAgente                  0\n",
              "NumCPFCNPJAgente           0\n",
              "SigUF                      0\n",
              "CodigoMunicipio            0\n",
              "NomMunicipio               2\n",
              "NomCategoria               2\n",
              "NomSubCategoria            0\n",
              "NomTipologia               2\n",
              "NomDecisao                 0\n",
              "DscSituacao                0\n",
              "DtCriacao                  0\n",
              "NumQtdReclamacoesDia       0\n",
              "dtype: int64"
            ]
          },
          "metadata": {},
          "execution_count": 9
        }
      ]
    },
    {
      "cell_type": "code",
      "source": [
        "dados.shape"
      ],
      "metadata": {
        "colab": {
          "base_uri": "https://localhost:8080/"
        },
        "id": "3CoFxyQi1yFU",
        "outputId": "0bd7dcfe-442f-4ebd-8da3-936f8c41ff10"
      },
      "execution_count": 10,
      "outputs": [
        {
          "output_type": "execute_result",
          "data": {
            "text/plain": [
              "(471835, 13)"
            ]
          },
          "metadata": {},
          "execution_count": 10
        }
      ]
    },
    {
      "cell_type": "code",
      "source": [
        "dados['NomCategoria'].value_counts()"
      ],
      "metadata": {
        "colab": {
          "base_uri": "https://localhost:8080/"
        },
        "id": "WTsoIAaJ2gxD",
        "outputId": "cbc06c48-c73b-4881-8131-df989c63761b"
      },
      "execution_count": 11,
      "outputs": [
        {
          "output_type": "execute_result",
          "data": {
            "text/plain": [
              "Informação          322615\n",
              "Reclamações         148283\n",
              "Denúncias              760\n",
              "Sugestão/Crítica       123\n",
              "Elogio                  52\n",
              "Name: NomCategoria, dtype: int64"
            ]
          },
          "metadata": {},
          "execution_count": 11
        }
      ]
    },
    {
      "cell_type": "code",
      "source": [
        "dados['NomSubCategoria'].value_counts()"
      ],
      "metadata": {
        "colab": {
          "base_uri": "https://localhost:8080/"
        },
        "id": "jbvc9nSi3hFh",
        "outputId": "98cbdd3e-825b-4bfb-cf85-2f9a7a2161bf"
      },
      "execution_count": 12,
      "outputs": [
        {
          "output_type": "execute_result",
          "data": {
            "text/plain": [
              "Qualidade do Fornecimento    131020\n",
              "Serviços Comerciais          102998\n",
              "Faturamento                   72001\n",
              "Cobranças                     69989\n",
              "Serviços Técnicos             65466\n",
              "Atendimento                   22521\n",
              "Outros                         6905\n",
              "Denúncias                       760\n",
              "Sugestão/Crítica                123\n",
              "Elogio                           52\n",
              "Name: NomSubCategoria, dtype: int64"
            ]
          },
          "metadata": {},
          "execution_count": 12
        }
      ]
    },
    {
      "cell_type": "code",
      "source": [
        "dados.groupby('NomCategoria')[['NomSubCategoria']].value_counts()"
      ],
      "metadata": {
        "colab": {
          "base_uri": "https://localhost:8080/"
        },
        "id": "aK5Xc2gP4hf0",
        "outputId": "3dc49a1c-06d4-467f-dedc-22bb5432677d"
      },
      "execution_count": 15,
      "outputs": [
        {
          "output_type": "execute_result",
          "data": {
            "text/plain": [
              "NomCategoria      NomSubCategoria          \n",
              "Denúncias         Denúncias                      760\n",
              "Elogio            Elogio                          52\n",
              "Informação        Qualidade do Fornecimento    91971\n",
              "                  Serviços Comerciais          78496\n",
              "                  Cobranças                    53745\n",
              "                  Faturamento                  41999\n",
              "                  Serviços Técnicos            31842\n",
              "                  Atendimento                  18097\n",
              "                  Outros                        6465\n",
              "Reclamações       Qualidade do Fornecimento    39049\n",
              "                  Serviços Técnicos            33624\n",
              "                  Faturamento                  30002\n",
              "                  Serviços Comerciais          24502\n",
              "                  Cobranças                    16244\n",
              "                  Atendimento                   4424\n",
              "                  Outros                         438\n",
              "Sugestão/Crítica  Sugestão/Crítica               123\n",
              "dtype: int64"
            ]
          },
          "metadata": {},
          "execution_count": 15
        }
      ]
    },
    {
      "cell_type": "code",
      "source": [
        "dados.groupby('NomCategoria')[['NomSubCategoria']].value_counts().apply(lambda x:x/(len(dados))*100)"
      ],
      "metadata": {
        "colab": {
          "base_uri": "https://localhost:8080/"
        },
        "id": "4mlGvn0G6FdW",
        "outputId": "bc07f004-7abf-4cd4-bf0c-cc87b0869606"
      },
      "execution_count": 25,
      "outputs": [
        {
          "output_type": "execute_result",
          "data": {
            "text/plain": [
              "NomCategoria      NomSubCategoria          \n",
              "Denúncias         Denúncias                     0.161073\n",
              "Elogio            Elogio                        0.011021\n",
              "Informação        Qualidade do Fornecimento    19.492195\n",
              "                  Serviços Comerciais          16.636324\n",
              "                  Cobranças                    11.390634\n",
              "                  Faturamento                   8.901205\n",
              "                  Serviços Técnicos             6.748546\n",
              "                  Atendimento                   3.835451\n",
              "                  Outros                        1.370182\n",
              "Reclamações       Qualidade do Fornecimento     8.275986\n",
              "                  Serviços Técnicos             7.126220\n",
              "                  Faturamento                   6.358579\n",
              "                  Serviços Comerciais           5.192917\n",
              "                  Cobranças                     3.442729\n",
              "                  Atendimento                   0.937616\n",
              "                  Outros                        0.092829\n",
              "Sugestão/Crítica  Sugestão/Crítica              0.026068\n",
              "dtype: float64"
            ]
          },
          "metadata": {},
          "execution_count": 25
        }
      ]
    },
    {
      "cell_type": "code",
      "source": [],
      "metadata": {
        "id": "GdaLm7JC7h3r"
      },
      "execution_count": null,
      "outputs": []
    }
  ]
}